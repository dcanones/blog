{
 "cells": [
  {
   "cell_type": "markdown",
   "metadata": {
    "deletable": true,
    "editable": true
   },
   "source": [
    "# Youtube channel subscribers VS channel creation date\n",
    "\n",
    "## Introduction\n",
    "\n",
    "In this post, I'm going to answer a question that has been around for a while... and I'm going to do this using data from Atomic Media retrieval system (called atm Atomic Engine):\n",
    "\n",
    "How important is being perseverant as a Youtuber?\n",
    "\n",
    "A couple of years ago, one of [my friends](https://www.linkedin.com/in/pbsoto/) and partner came around with [this](https://medium.com/@luisdiazdeldedo/la-%C3%A9poca-de-los-mediocres-constantes-aa5903cd8d22#.wbsapbxhg) arguable Medium article (in Spanish) from Luis Díaz del Dedo, talking about how important was the 'age' of a Youtube channel for its success. At the end of the article the author stands that in spite of the quality of the content, the most important thing was being resilient and keep uploading videos week over week for years. \n",
    "\n",
    "One of the weakness of this article was that the author only give info about one particular channel, a well known success case over here: the spanish [youtuber](https://www.youtube.com/user/elrubiusOMG) with the highest number of subscribers atm.\n",
    "\n",
    "As we have tons of data about Youtube Channels in our database, we can extend this analysis and incorporate data from a large number of channels in order to prove if channel creation date is related to some extent with channel number of subscribers.\n",
    "\n",
    "Let's get started..."
   ]
  },
  {
   "cell_type": "code",
   "execution_count": 48,
   "metadata": {
    "collapsed": false,
    "deletable": true,
    "editable": true
   },
   "outputs": [],
   "source": [
    "import pandas as pd\n",
    "import numpy as np\n",
    "import matplotlib.pyplot as plt\n",
    "import seaborn as sns\n",
    "from scipy import stats\n",
    "sns.set(context = 'paper', style = 'darkgrid', font_scale=2)\n",
    "%matplotlib inline"
   ]
  },
  {
   "cell_type": "markdown",
   "metadata": {
    "deletable": true,
    "editable": true
   },
   "source": [
    "## Data preparation\n",
    "First of all, we load datasets of static (do not change over time) and dynamic (change over time) data into memory and filter this data to keep only the most recent records (we also use dynamic data to analyze the evolution of channels and video over time and identify patterns)."
   ]
  },
  {
   "cell_type": "code",
   "execution_count": 49,
   "metadata": {
    "collapsed": true,
    "deletable": true,
    "editable": true
   },
   "outputs": [],
   "source": [
    "channels = pd.read_pickle('data/channels.pickle')\n",
    "channels_ts = pd.read_pickle('data/channels_ts.pickle') #ts is the acronym for timeseries"
   ]
  },
  {
   "cell_type": "code",
   "execution_count": 50,
   "metadata": {
    "collapsed": true,
    "deletable": true,
    "editable": true
   },
   "outputs": [],
   "source": [
    "# Filter channel_ts info and last only most recent entries\n",
    "list_of_indexes = [np.argmax(g['eng_fh_date']) for l, g in channels_ts.groupby('eng_id_channel')]\n",
    "\n",
    "# Generates a full channels dataset merging static and dynamic data.\n",
    "full_channels = channels.merge(channels_ts.ix[list_of_indexes], how='left')"
   ]
  },
  {
   "cell_type": "markdown",
   "metadata": {
    "deletable": true,
    "editable": true
   },
   "source": [
    "This is how the first rows of our Data Frame looks up to this point:"
   ]
  },
  {
   "cell_type": "code",
   "execution_count": 51,
   "metadata": {
    "collapsed": false,
    "deletable": true,
    "editable": true
   },
   "outputs": [
    {
     "data": {
      "text/html": [
       "<div>\n",
       "<table border=\"1\" class=\"dataframe\">\n",
       "  <thead>\n",
       "    <tr style=\"text-align: right;\">\n",
       "      <th></th>\n",
       "      <th>eng_id_channel</th>\n",
       "      <th>eng_fh_lastupdate</th>\n",
       "      <th>eng_fh_creationdate</th>\n",
       "      <th>eng_js_topicids</th>\n",
       "      <th>eng_fh_updatedrelated</th>\n",
       "      <th>eng_fh_updatedvideos</th>\n",
       "      <th>eng_id_allvidplaylist</th>\n",
       "      <th>eng_fh_date</th>\n",
       "      <th>eng_nu_totalviews</th>\n",
       "      <th>eng_nu_subscribers</th>\n",
       "      <th>eng_nu_totalvideos</th>\n",
       "      <th>eng_tx_title</th>\n",
       "      <th>eng_tx_keywords</th>\n",
       "      <th>eng_tx_description</th>\n",
       "      <th>eng_js_related</th>\n",
       "      <th>eng_nu_totalcomments</th>\n",
       "    </tr>\n",
       "  </thead>\n",
       "  <tbody>\n",
       "    <tr>\n",
       "      <th>0</th>\n",
       "      <td>UCk9gPdY4fbH0BRhyTio9XIg</td>\n",
       "      <td>2017-02-10 08:47:24.058337</td>\n",
       "      <td>2006-06-23 14:58:55</td>\n",
       "      <td>[/m/01mw1, /m/013f7bmb, /m/02dpv4, /m/03bt1gh,...</td>\n",
       "      <td>2017-02-02 23:31:07.896056</td>\n",
       "      <td>2017-02-10 08:47:53.621198</td>\n",
       "      <td>UUk9gPdY4fbH0BRhyTio9XIg</td>\n",
       "      <td>2017-02-10 08:47:24.058337</td>\n",
       "      <td>15428886.0</td>\n",
       "      <td>88510.0</td>\n",
       "      <td>496.0</td>\n",
       "      <td>DamnNoHtml</td>\n",
       "      <td>cry spoon bye funny humor deadpan Dark Souls P...</td>\n",
       "      <td>Hi there, I am Scott!\\n\\nI play video games. A...</td>\n",
       "      <td>[UC73Us1H9hxv__5oobyLDOyw, UCxW2Le1cFAD14KP1k9...</td>\n",
       "      <td>233.0</td>\n",
       "    </tr>\n",
       "    <tr>\n",
       "      <th>1</th>\n",
       "      <td>UCap97Ue8K_BpKlrvQRYd6JA</td>\n",
       "      <td>2017-02-10 08:47:34.084422</td>\n",
       "      <td>2011-12-02 05:26:55</td>\n",
       "      <td>[/m/04rh6b, /m/0bqtd, /m/032tl, /m/019_rr]</td>\n",
       "      <td>2017-02-02 23:02:50.612256</td>\n",
       "      <td>2017-02-10 08:48:03.193162</td>\n",
       "      <td>UUap97Ue8K_BpKlrvQRYd6JA</td>\n",
       "      <td>2017-02-10 08:47:34.084422</td>\n",
       "      <td>354456872.0</td>\n",
       "      <td>5056065.0</td>\n",
       "      <td>373.0</td>\n",
       "      <td>LaurDIY</td>\n",
       "      <td>DIY \"how to's\" tutorials beauty hair</td>\n",
       "      <td>HI BABES! I'm Lauren, your DIY-obsessed bestie...</td>\n",
       "      <td>[UC3-HdcyKSJv6YqIuGxiY2Qw, UC73Km9IHhumn8S6zJt...</td>\n",
       "      <td>112.0</td>\n",
       "    </tr>\n",
       "    <tr>\n",
       "      <th>2</th>\n",
       "      <td>UC0vKbQS7N-ptdKJacKnVrYg</td>\n",
       "      <td>2017-02-10 08:54:30.196930</td>\n",
       "      <td>2008-05-16 03:52:24</td>\n",
       "      <td>[/m/032tl, /m/04rh6b, /m/019_rr, /m/032tl, /m/...</td>\n",
       "      <td>2017-02-11 00:25:14.372854</td>\n",
       "      <td>2017-02-10 19:06:44.583540</td>\n",
       "      <td>UU0vKbQS7N-ptdKJacKnVrYg</td>\n",
       "      <td>2017-02-10 08:54:30.196930</td>\n",
       "      <td>337818.0</td>\n",
       "      <td>6117.0</td>\n",
       "      <td>85.0</td>\n",
       "      <td>Gina Gaus</td>\n",
       "      <td>Gina Gaus Girl Ginaandjuice Omgginalol</td>\n",
       "      <td>20-something professional cosmetologist/colleg...</td>\n",
       "      <td>[UC4Dl86zu47Hs_p7SgU_hzcg]</td>\n",
       "      <td>183.0</td>\n",
       "    </tr>\n",
       "    <tr>\n",
       "      <th>3</th>\n",
       "      <td>UCzQMI4gtB50HUYAZIa2z-Hg</td>\n",
       "      <td>2017-02-10 08:47:31.538011</td>\n",
       "      <td>2013-12-03 19:00:12</td>\n",
       "      <td>[/m/04w8jw, /m/0hgnzjh, /m/019_rr, /m/0bzvm2]</td>\n",
       "      <td>2017-02-02 23:29:39.241409</td>\n",
       "      <td>2017-02-10 08:48:21.811929</td>\n",
       "      <td>UUzQMI4gtB50HUYAZIa2z-Hg</td>\n",
       "      <td>2017-02-10 08:47:31.538011</td>\n",
       "      <td>59546024.0</td>\n",
       "      <td>684756.0</td>\n",
       "      <td>274.0</td>\n",
       "      <td>iamSanna</td>\n",
       "      <td>Challenges Entertainment Vlogs TAG Q&amp;A \"long d...</td>\n",
       "      <td>Hey! \\n\\nMy name is Sanna and i make a lot of ...</td>\n",
       "      <td>[UC0DZmkupLYwc0yDsfocLh0A, UCyQVt6PHgeW2kmh7mY...</td>\n",
       "      <td>0.0</td>\n",
       "    </tr>\n",
       "    <tr>\n",
       "      <th>4</th>\n",
       "      <td>UC3uiC_QlVkqMlk2mFCDUpHw</td>\n",
       "      <td>2017-02-10 08:47:41.127038</td>\n",
       "      <td>2008-01-24 06:46:17</td>\n",
       "      <td>[/m/014trl, /m/04rh6b, /m/019_rr, /m/032tl, /m...</td>\n",
       "      <td>2017-02-02 23:32:23.331141</td>\n",
       "      <td>2017-02-10 08:48:12.539409</td>\n",
       "      <td>UU3uiC_QlVkqMlk2mFCDUpHw</td>\n",
       "      <td>2017-02-10 08:47:41.127038</td>\n",
       "      <td>6218823.0</td>\n",
       "      <td>72538.0</td>\n",
       "      <td>400.0</td>\n",
       "      <td>chrissstttiiine</td>\n",
       "      <td>christine mai nguyen</td>\n",
       "      <td>Los Angeles, CA\\nI've been on YouTube for almo...</td>\n",
       "      <td>[UCDwOgSAnSHFVN_1mc2dHMyw, UCuOShJFeXUWJg-o-ks...</td>\n",
       "      <td>361.0</td>\n",
       "    </tr>\n",
       "  </tbody>\n",
       "</table>\n",
       "</div>"
      ],
      "text/plain": [
       "             eng_id_channel          eng_fh_lastupdate eng_fh_creationdate  \\\n",
       "0  UCk9gPdY4fbH0BRhyTio9XIg 2017-02-10 08:47:24.058337 2006-06-23 14:58:55   \n",
       "1  UCap97Ue8K_BpKlrvQRYd6JA 2017-02-10 08:47:34.084422 2011-12-02 05:26:55   \n",
       "2  UC0vKbQS7N-ptdKJacKnVrYg 2017-02-10 08:54:30.196930 2008-05-16 03:52:24   \n",
       "3  UCzQMI4gtB50HUYAZIa2z-Hg 2017-02-10 08:47:31.538011 2013-12-03 19:00:12   \n",
       "4  UC3uiC_QlVkqMlk2mFCDUpHw 2017-02-10 08:47:41.127038 2008-01-24 06:46:17   \n",
       "\n",
       "                                     eng_js_topicids  \\\n",
       "0  [/m/01mw1, /m/013f7bmb, /m/02dpv4, /m/03bt1gh,...   \n",
       "1         [/m/04rh6b, /m/0bqtd, /m/032tl, /m/019_rr]   \n",
       "2  [/m/032tl, /m/04rh6b, /m/019_rr, /m/032tl, /m/...   \n",
       "3      [/m/04w8jw, /m/0hgnzjh, /m/019_rr, /m/0bzvm2]   \n",
       "4  [/m/014trl, /m/04rh6b, /m/019_rr, /m/032tl, /m...   \n",
       "\n",
       "       eng_fh_updatedrelated       eng_fh_updatedvideos  \\\n",
       "0 2017-02-02 23:31:07.896056 2017-02-10 08:47:53.621198   \n",
       "1 2017-02-02 23:02:50.612256 2017-02-10 08:48:03.193162   \n",
       "2 2017-02-11 00:25:14.372854 2017-02-10 19:06:44.583540   \n",
       "3 2017-02-02 23:29:39.241409 2017-02-10 08:48:21.811929   \n",
       "4 2017-02-02 23:32:23.331141 2017-02-10 08:48:12.539409   \n",
       "\n",
       "      eng_id_allvidplaylist                eng_fh_date  eng_nu_totalviews  \\\n",
       "0  UUk9gPdY4fbH0BRhyTio9XIg 2017-02-10 08:47:24.058337         15428886.0   \n",
       "1  UUap97Ue8K_BpKlrvQRYd6JA 2017-02-10 08:47:34.084422        354456872.0   \n",
       "2  UU0vKbQS7N-ptdKJacKnVrYg 2017-02-10 08:54:30.196930           337818.0   \n",
       "3  UUzQMI4gtB50HUYAZIa2z-Hg 2017-02-10 08:47:31.538011         59546024.0   \n",
       "4  UU3uiC_QlVkqMlk2mFCDUpHw 2017-02-10 08:47:41.127038          6218823.0   \n",
       "\n",
       "   eng_nu_subscribers  eng_nu_totalvideos     eng_tx_title  \\\n",
       "0             88510.0               496.0       DamnNoHtml   \n",
       "1           5056065.0               373.0          LaurDIY   \n",
       "2              6117.0                85.0        Gina Gaus   \n",
       "3            684756.0               274.0         iamSanna   \n",
       "4             72538.0               400.0  chrissstttiiine   \n",
       "\n",
       "                                     eng_tx_keywords  \\\n",
       "0  cry spoon bye funny humor deadpan Dark Souls P...   \n",
       "1               DIY \"how to's\" tutorials beauty hair   \n",
       "2             Gina Gaus Girl Ginaandjuice Omgginalol   \n",
       "3  Challenges Entertainment Vlogs TAG Q&A \"long d...   \n",
       "4                               christine mai nguyen   \n",
       "\n",
       "                                  eng_tx_description  \\\n",
       "0  Hi there, I am Scott!\\n\\nI play video games. A...   \n",
       "1  HI BABES! I'm Lauren, your DIY-obsessed bestie...   \n",
       "2  20-something professional cosmetologist/colleg...   \n",
       "3  Hey! \\n\\nMy name is Sanna and i make a lot of ...   \n",
       "4  Los Angeles, CA\\nI've been on YouTube for almo...   \n",
       "\n",
       "                                      eng_js_related  eng_nu_totalcomments  \n",
       "0  [UC73Us1H9hxv__5oobyLDOyw, UCxW2Le1cFAD14KP1k9...                 233.0  \n",
       "1  [UC3-HdcyKSJv6YqIuGxiY2Qw, UC73Km9IHhumn8S6zJt...                 112.0  \n",
       "2                         [UC4Dl86zu47Hs_p7SgU_hzcg]                 183.0  \n",
       "3  [UC0DZmkupLYwc0yDsfocLh0A, UCyQVt6PHgeW2kmh7mY...                   0.0  \n",
       "4  [UCDwOgSAnSHFVN_1mc2dHMyw, UCuOShJFeXUWJg-o-ks...                 361.0  "
      ]
     },
     "execution_count": 51,
     "metadata": {},
     "output_type": "execute_result"
    }
   ],
   "source": [
    "full_channels.head()"
   ]
  },
  {
   "cell_type": "markdown",
   "metadata": {
    "deletable": true,
    "editable": true
   },
   "source": [
    "From this DataFrame we are only going to use the columns we're interested in: 'eng_fh_creationdate' and 'eng_nu_subscribers'. There should not be nan values in those columns to avoid problems creating a linear model and plotting it.\n",
    "\n",
    "In order to keep only 'successfull' channels, we can filter only those channels with, let's say... above 500,000 subscribers up to date. To avoid 'extreme successfull' channels, we should also filter those channels above 50,000,000 subscribers (better said... that channel, because there is only one youtuber with such a brutal amount of subscribers and he is PewDiePie)."
   ]
  },
  {
   "cell_type": "code",
   "execution_count": 52,
   "metadata": {
    "collapsed": false,
    "deletable": true,
    "editable": true
   },
   "outputs": [],
   "source": [
    "channels_subset = full_channels.dropna(subset=['eng_fh_creationdate', 'eng_nu_subscribers'])\n",
    "channels_subset = channels_subset[['eng_fh_creationdate', 'eng_nu_subscribers']]\n",
    "channels_filtered = channels_subset[channels_subset['eng_nu_subscribers'] > 500000]\n",
    "channels_filtered = channels_filtered[channels_filtered['eng_nu_subscribers'] < 50000000]"
   ]
  },
  {
   "cell_type": "markdown",
   "metadata": {
    "deletable": true,
    "editable": true
   },
   "source": [
    "This is how the very first rows of our Data Frame looks up to this point"
   ]
  },
  {
   "cell_type": "code",
   "execution_count": 53,
   "metadata": {
    "collapsed": false,
    "deletable": true,
    "editable": true
   },
   "outputs": [
    {
     "data": {
      "text/html": [
       "<div>\n",
       "<table border=\"1\" class=\"dataframe\">\n",
       "  <thead>\n",
       "    <tr style=\"text-align: right;\">\n",
       "      <th></th>\n",
       "      <th>eng_fh_creationdate</th>\n",
       "      <th>eng_nu_subscribers</th>\n",
       "    </tr>\n",
       "  </thead>\n",
       "  <tbody>\n",
       "    <tr>\n",
       "      <th>1</th>\n",
       "      <td>2011-12-02 05:26:55</td>\n",
       "      <td>5056065.0</td>\n",
       "    </tr>\n",
       "    <tr>\n",
       "      <th>3</th>\n",
       "      <td>2013-12-03 19:00:12</td>\n",
       "      <td>684756.0</td>\n",
       "    </tr>\n",
       "    <tr>\n",
       "      <th>5</th>\n",
       "      <td>2012-05-26 20:30:52</td>\n",
       "      <td>16479753.0</td>\n",
       "    </tr>\n",
       "    <tr>\n",
       "      <th>7</th>\n",
       "      <td>2007-09-19 04:26:36</td>\n",
       "      <td>8038953.0</td>\n",
       "    </tr>\n",
       "    <tr>\n",
       "      <th>9</th>\n",
       "      <td>2011-01-28 01:20:05</td>\n",
       "      <td>1276510.0</td>\n",
       "    </tr>\n",
       "  </tbody>\n",
       "</table>\n",
       "</div>"
      ],
      "text/plain": [
       "  eng_fh_creationdate  eng_nu_subscribers\n",
       "1 2011-12-02 05:26:55           5056065.0\n",
       "3 2013-12-03 19:00:12            684756.0\n",
       "5 2012-05-26 20:30:52          16479753.0\n",
       "7 2007-09-19 04:26:36           8038953.0\n",
       "9 2011-01-28 01:20:05           1276510.0"
      ]
     },
     "execution_count": 53,
     "metadata": {},
     "output_type": "execute_result"
    }
   ],
   "source": [
    "channels_filtered.head()"
   ]
  },
  {
   "cell_type": "markdown",
   "metadata": {
    "deletable": true,
    "editable": true
   },
   "source": [
    "Now, we have to make some transformation to this data:\n",
    "\n",
    "* Seaborn linear model graph do not accept dates as an imput, so we must transform date column to a continuous value in order to feed it to the plotting function.\n",
    "* We can convert subscribers column into millions of subscribers to make it easier to read.\n"
   ]
  },
  {
   "cell_type": "code",
   "execution_count": 54,
   "metadata": {
    "collapsed": true,
    "deletable": true,
    "editable": true
   },
   "outputs": [],
   "source": [
    "x = channels_filtered['eng_fh_creationdate'].values\n",
    "x = (x.astype('uint64') / 1e9) /  31556926 + 1970 #To years\n",
    "y = channels_filtered['eng_nu_subscribers']/1e6"
   ]
  },
  {
   "cell_type": "markdown",
   "metadata": {
    "deletable": true,
    "editable": true
   },
   "source": [
    "## Plotting\n",
    "And now, we can plot the results, previously defining a function that calculates $R^2$"
   ]
  },
  {
   "cell_type": "code",
   "execution_count": 55,
   "metadata": {
    "collapsed": false,
    "deletable": true,
    "editable": true
   },
   "outputs": [
    {
     "data": {
      "text/plain": [
       "<seaborn.axisgrid.JointGrid at 0x14f038ba470>"
      ]
     },
     "execution_count": 55,
     "metadata": {},
     "output_type": "execute_result"
    },
    {
     "data": {
      "image/png": "[encoded data removed]",
      "text/plain": [
       "<matplotlib.figure.Figure at 0x14f038ba5c0>"
      ]
     },
     "metadata": {},
     "output_type": "display_data"
    }
   ],
   "source": [
    "def r2(x, y):\n",
    "    return stats.pearsonr(x, y)[0] ** 2\n",
    "\n",
    "g = sns.jointplot(x, y, kind=\"reg\", stat_func=r2, size=10)\n",
    "g.set_axis_labels('Creation date (year)', 'Subscribers (millions)')"
   ]
  },
  {
   "cell_type": "markdown",
   "metadata": {
    "deletable": true,
    "editable": true
   },
   "source": [
    "## Results\n",
    "\n",
    "How conclusive are the results? There is obviously a negative slope in the graph, but does not look extremely pronounced although it ranges from about 4 millions subscribers to 1 million for the most recent channels. Also, we should not be mistaken about what we see... points are not equally distributed around the grid, and what is most important, $R^2$ is about 0.05, what means that only 5% of variance can be explained due to the creation date, which, is simple words means that there is not a clear relationship between these two variables.\n",
    "\n",
    "We have to remember also that we have previously filtered channels with less than 500,000 subscribers (a void area in the bottom of the graph is clearly visible).\n",
    "\n",
    "What happens with all those sub 500,000 channels? This is only an advance of what me and my colleages are working on at Atomic Media at this moment. Keep and eye on this blog because I will go deeper and deeper in those topics (and others) in the next days and months.\n",
    "\n",
    "And of course, we are humans! And humans make mistakes. If you see mistakes or erratum in this post, you can contact me via mail of twitter (located in the bottom of this web)."
   ]
  }
 ],
 "metadata": {
  "kernelspec": {
   "display_name": "Python 3",
   "language": "python",
   "name": "python3"
  },
  "language_info": {
   "codemirror_mode": {
    "name": "ipython",
    "version": 3
   },
   "file_extension": ".py",
   "mimetype": "text/x-python",
   "name": "python",
   "nbconvert_exporter": "python",
   "pygments_lexer": "ipython3",
   "version": "3.6.0"
  }
 },
 "nbformat": 4,
 "nbformat_minor": 0
}
